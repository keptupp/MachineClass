{
 "cells": [
  {
   "cell_type": "code",
   "execution_count": 11,
   "metadata": {},
   "outputs": [
    {
     "data": {
      "image/png": "[encoded data removed]",
      "text/plain": [
       "<Figure size 432x288 with 1 Axes>"
      ]
     },
     "metadata": {
      "needs_background": "light"
     },
     "output_type": "display_data"
    },
    {
     "name": "stdout",
     "output_type": "stream",
     "text": [
      "[-4.09641935  1.2020206 ]\n"
     ]
    },
    {
     "data": {
      "image/png": "[encoded data removed]",
      "text/plain": [
       "<Figure size 432x288 with 1 Axes>"
      ]
     },
     "metadata": {
      "needs_background": "light"
     },
     "output_type": "display_data"
    }
   ],
   "source": [
    "import numpy\n",
    "import pandas\n",
    "import matplotlib.pyplot as plt\n",
    "\n",
    "\n",
    "def getData():\n",
    "    data=numpy.array(pandas.read_csv('ex1data1.txt'))\n",
    "    data=numpy.insert(data,0,numpy.ones((data.shape[0])),axis=1)\n",
    "    theta=numpy.array([0,0])\n",
    "    return data,theta\n",
    "\n",
    "def compute(data,theta):\n",
    "    return data[:,:2]@theta\n",
    "\n",
    "def cost(data,theta):\n",
    "    yo=compute(data,theta)\n",
    "    errorValue=yo-data[:,2]\n",
    "    return numpy.power(errorValue,2).sum()/(2*data.shape[0]),errorValue\n",
    "\n",
    "def gradient(data,errorValue):\n",
    "    decline=(errorValue.reshape(1,-1).T*data[:,0:2])\n",
    "    return numpy.sum(decline,axis=0)/(data.shape[0])\n",
    "\n",
    "def main():\n",
    "\n",
    "    data,theta=getData()\n",
    "    # j,errorValue=cost(data,theta)\n",
    "    # print(gradient(data,errorValue))\n",
    "    costs=[]\n",
    "    for i in range(1000):\n",
    "        j,errorValue=cost(data,theta)\n",
    "        theta=theta-0.02*gradient(data,errorValue)\n",
    "        costs.append(j)\n",
    "    plt.plot(costs)\n",
    "    plt.show()\n",
    "    plt.scatter(data[:,1],data[:,2])\n",
    "    print(theta)\n",
    "    x=numpy.arange(4,30,0.01)\n",
    "    y=x*theta[1]+theta[0]\n",
    "    plt.scatter(x,y,s=0.1)\n",
    "\n",
    "main()"
   ]
  },
  {
   "cell_type": "markdown",
   "metadata": {},
   "source": [
    "# 单变量线性回归\n",
    "即拟合一个形如y=ax+b的一个方程，拟合的参数就是a、b  \n",
    "这里我们令a=theta1,b=theta0。  \n",
    "用数学表达就是y=[1,x]@[theta0,theta1].T  \n",
    "基于矩阵乘的优势，我们可以把批量的x带入方程中，求出y\n",
    "\n",
    "## 方法\n",
    "根据梯度下降的原理，我们初始化一个theta1,theta2（这里我设的是0，0）  \n",
    "然后需要计算初始化的方程与期望的结果之间的差距，即为代价函数cost()。对于此处，我们可以定义代价函数为所有的计算结果与实际结果的平方，然后除以两倍的样本数量，公式如下  \n",
    "$$J\\left( \\theta  \\right)=\\frac{1}{2m}\\sum\\limits_{i=1}^{m}{{{\\left( {{h}_{\\theta }}\\left( {{x}^{(i)}} \\right)-{{y}^{(i)}} \\right)}^{2}}}$$\n",
    "得到代价函数后，我们可以知道，若想使直线尽可能的拟合散点集，就需要尽可能的减小代价函数，我们使用的方法就是梯度下降  \n",
    "其原理就是对需要调整的theta值求偏导，偏导数反应了该theta值对整体的上升和下降的情况，若偏导大于0，说明此时对整体的误差有拉高作用，  \n",
    "此时较底点在右边，需要减小一个量，因为偏导数约大，说明上升的趋势约明显，所以减小的量可以和偏导数的值成正比。偏导数小于0也是同理。\n",
    "以此我们就可以构建出逐步逼近代价函数最小值得地方，下降公式如下  \n",
    "$${{\\theta }_{j}}:={{\\theta }_{j}}-\\alpha \\frac{\\partial }{\\partial {{\\theta }_{j}}}J\\left( \\theta  \\right)$$"
   ]
  },
  {
   "cell_type": "markdown",
   "metadata": {},
   "source": []
  },
  {
   "cell_type": "markdown",
   "metadata": {},
   "source": []
  }
 ],
 "metadata": {
  "kernelspec": {
   "display_name": "Python 3.9.12 64-bit",
   "language": "python",
   "name": "python3"
  },
  "language_info": {
   "codemirror_mode": {
    "name": "ipython",
    "version": 3
   },
   "file_extension": ".py",
   "mimetype": "text/x-python",
   "name": "python",
   "nbconvert_exporter": "python",
   "pygments_lexer": "ipython3",
   "version": "3.9.12"
  },
  "orig_nbformat": 4,
  "vscode": {
   "interpreter": {
    "hash": "1daca1ebfa99d363f49187de6dd878fa6001e85bc2f160c60bcd81d0df0caa1e"
   }
  }
 },
 "nbformat": 4,
 "nbformat_minor": 2
}
