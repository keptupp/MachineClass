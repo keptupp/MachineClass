{
 "cells": [
  {
   "cell_type": "markdown",
   "metadata": {},
   "source": [
    "# 反向传播算法\n",
    "根据上一次实验，我们了解了手写字体识别，但是还没有对神经的反向传播算法做过多的推导。  \n",
    "借助上一次的代码结合附件：反向传播推导公式.pdf，来对反向传播算法的原理以及实现进行实验。"
   ]
  },
  {
   "cell_type": "code",
   "execution_count": 1,
   "metadata": {},
   "outputs": [],
   "source": [
    "import numpy\n",
    "from scipy.io import loadmat#读取mat文件\n",
    "import matplotlib.pyplot as plt"
   ]
  },
  {
   "cell_type": "markdown",
   "metadata": {},
   "source": [
    "### 激活函数sigmoid"
   ]
  },
  {
   "cell_type": "code",
   "execution_count": 2,
   "metadata": {},
   "outputs": [],
   "source": [
    "def sigmoid(z):\n",
    "    return 1/(1+numpy.exp(-z))"
   ]
  },
  {
   "cell_type": "markdown",
   "metadata": {},
   "source": [
    "### 对激活函数的求导，方向传播求偏导的时候要用"
   ]
  },
  {
   "cell_type": "code",
   "execution_count": 3,
   "metadata": {},
   "outputs": [],
   "source": [
    "def Dsigmoid(z):\n",
    "    return sigmoid(z)*(1-sigmoid(z))"
   ]
  },
  {
   "cell_type": "markdown",
   "metadata": {},
   "source": [
    "### 获取数据"
   ]
  },
  {
   "cell_type": "code",
   "execution_count": 4,
   "metadata": {},
   "outputs": [],
   "source": [
    "def getData():\n",
    "    data=loadmat(\"ex4data1.mat\")\n",
    "    x=numpy.insert(data['X'],0,numpy.ones((5000)),axis=1)\n",
    "    y=numpy.array(data['y'])\n",
    "    ynum=numpy.array(data['y'])\n",
    "    y=numpy.zeros((x.shape[0],10))\n",
    "    for i in range(len(ynum)):\n",
    "        y[i][ynum[i]-1]=1\n",
    "    theta1=(numpy.random.random((25,x.shape[1]))-0.5)*0.25\n",
    "    theta2=(numpy.random.random((10,26))-0.5)*0.25\n",
    "    # theta1=numpy.array(numpy.load('theta1.npy'))\n",
    "    # theta2=numpy.array(numpy.load('theta2.npy'))\n",
    "    return x,y,theta1,theta2"
   ]
  },
  {
   "cell_type": "markdown",
   "metadata": {},
   "source": [
    "### 向前传播"
   ]
  },
  {
   "cell_type": "code",
   "execution_count": 5,
   "metadata": {},
   "outputs": [],
   "source": [
    "def propagate_forward(x,theta1,theta2):\n",
    "    z1=x@theta1.T\n",
    "    h1=sigmoid(z1)\n",
    "    h1=numpy.insert(h1,0,numpy.ones((5000)),axis=1)\n",
    "    z2=h1@theta2.T\n",
    "    h2=sigmoid(z2)\n",
    "    return h2,h1"
   ]
  },
  {
   "cell_type": "markdown",
   "metadata": {},
   "source": [
    "### 计算代价"
   ]
  },
  {
   "cell_type": "code",
   "execution_count": 6,
   "metadata": {},
   "outputs": [],
   "source": [
    "def cost(y,h2,theta1,theta2,L):\n",
    "    m=y.shape[0]\n",
    "    price=(-y*numpy.log(h2)-(1-y)*numpy.log(1-h2)).sum()/m\n",
    "    regularization=(numpy.power(theta1,2).sum()+numpy.power(theta2,2).sum())*L/(2*m)\n",
    "    return price+regularization"
   ]
  },
  {
   "cell_type": "markdown",
   "metadata": {},
   "source": [
    "### 反向传播算法的实现\n",
    "根据附件的推到可知，对于隐藏层到输出层的权重（10*26的矩阵，10表示为输出的10和onehot编码，  \n",
    "对应0-9，26表示对应每个输出的隐藏层到输出层的权重),其公式如下\n",
    "$$[h(x)-y] \\frac{\\partial x}{\\partial w}$$\n",
    "\n",
    "实现过程是对5000的样本进行循环，每一次循环得到一个10*26的梯度下降矩阵呢个，用来更新隐藏层到输出层的权重。  \n",
    "反向传播代码中的decline2即为所求的隐藏层到输出层的偏导，用总误差去矩阵乘隐藏层的输出  \n",
    "其中，decline1的计算则较为复杂，因为对输入层到隐藏层求偏导，其误差涉及到隐藏层到输出层的误差，也就是需要根据链式求导法则  \n",
    "找到隐藏层到输出层的误差。根据附件推导公式如下\n",
    "$$[h(x)-y] \\text { theta2 } h(z)(1-h(z)) x$$\n",
    "代码实现可知，a表示总体误差与隐藏层到输出层的权重进行矩阵乘，b表示对隐藏层的激活函数进行求导，然后与输入进行矩阵乘，得到的a，b然后进行普通乘即得到总体误差对输入层到隐藏层的偏导。\n"
   ]
  },
  {
   "cell_type": "code",
   "execution_count": 7,
   "metadata": {},
   "outputs": [],
   "source": [
    "def back_propagation(theta1,theta2,x,errorValue,h1,dh1):\n",
    "    decline2=numpy.zeros((10,26))\n",
    "    decline1=numpy.zeros((25,401))\n",
    "    for i in range(5000):\n",
    "        #隐藏层到输出层偏导\n",
    "        decline2=decline2+errorValue[i].reshape(-1,1) @ h1[i].reshape(-1,1).T\n",
    "\n",
    "        a=errorValue[i].reshape(-1,1).T@theta2\n",
    "        b=dh1[i].reshape(-1,1)@x[i].reshape(-1,1).T\n",
    "\n",
    "        decline1=decline1+a[:,1:].T*b\n",
    "    return decline1,decline2"
   ]
  },
  {
   "cell_type": "markdown",
   "metadata": {},
   "source": [
    "### 训练神经网络"
   ]
  },
  {
   "cell_type": "code",
   "execution_count": 8,
   "metadata": {},
   "outputs": [],
   "source": [
    "def neural_networks(epoch,speed):\n",
    "    x,y,theta1,theta2=getData()\n",
    "    costs=[]\n",
    "    for i in range(epoch):\n",
    "        h2,h1=propagate_forward(x,theta1,theta2)\n",
    "        j=cost(y,h2,theta1,theta2,1)\n",
    "        errorValue=h2-y\n",
    "        dh1=Dsigmoid(x@theta1.T)\n",
    "        decline1,decline2=back_propagation(theta1,theta2,x,errorValue,h1,dh1)\n",
    "        theta1=theta1-speed*decline1\n",
    "        theta2=theta2-speed*decline2\n",
    "        costs.append(j)\n",
    "    plt.plot(costs)\n",
    "    numpy.save('theta1.npy',theta1)\n",
    "    numpy.save(\"theta2.npy\",theta2)\n",
    "    print(\"最小代价\",j)\n",
    "    return theta1,theta2"
   ]
  },
  {
   "cell_type": "markdown",
   "metadata": {},
   "source": [
    "### 绘制代价以及正确率"
   ]
  },
  {
   "cell_type": "code",
   "execution_count": 9,
   "metadata": {},
   "outputs": [],
   "source": [
    "def test(theta1,theta2):\n",
    "    x,y,_,_=getData()\n",
    "    # theta1=numpy.array(numpy.load(\"./theta12.npy\"))\n",
    "    # theta2=numpy.array(numpy.load(\"./theta22.npy\"))\n",
    "    h2,h1=propagate_forward(x,theta1,theta2)\n",
    "    h2[h2>0.5]=1\n",
    "    h2[h2<=0.5]=0\n",
    "    rigth=0\n",
    "    for i in range(5000):\n",
    "        if (h2[i,:]==y[i,:]).sum()==10:\n",
    "            rigth+=1\n",
    "    print(\"正确个数：\",rigth,\"，正确率：\",rigth/5000)"
   ]
  },
  {
   "cell_type": "code",
   "execution_count": 10,
   "metadata": {},
   "outputs": [
    {
     "name": "stdout",
     "output_type": "stream",
     "text": [
      "最小代价 0.9513138655725142\n",
      "正确个数： 4591 ，正确率： 0.9182\n"
     ]
    },
    {
     "data": {
      "image/png": "[encoded data removed]",
      "text/plain": [
       "<Figure size 640x480 with 1 Axes>"
      ]
     },
     "metadata": {},
     "output_type": "display_data"
    }
   ],
   "source": [
    "theta1,theta2=neural_networks(2000,0.001)\n",
    "test(theta1,theta2)"
   ]
  }
 ],
 "metadata": {
  "kernelspec": {
   "display_name": "Python 3.10.4 64-bit",
   "language": "python",
   "name": "python3"
  },
  "language_info": {
   "codemirror_mode": {
    "name": "ipython",
    "version": 3
   },
   "file_extension": ".py",
   "mimetype": "text/x-python",
   "name": "python",
   "nbconvert_exporter": "python",
   "pygments_lexer": "ipython3",
   "version": "3.10.4"
  },
  "orig_nbformat": 4,
  "vscode": {
   "interpreter": {
    "hash": "08f6edec437538b5993be24a8d19dd1bd66f0a7ae79d727201cebd80cd580c21"
   }
  }
 },
 "nbformat": 4,
 "nbformat_minor": 2
}
